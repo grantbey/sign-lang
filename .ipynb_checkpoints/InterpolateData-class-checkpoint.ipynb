{
 "cells": [
  {
   "cell_type": "code",
   "execution_count": null,
   "metadata": {
    "collapsed": true
   },
   "outputs": [],
   "source": [
    "from sklearn.base import BaseEstimator"
   ]
  },
  {
   "cell_type": "markdown",
   "metadata": {},
   "source": [
    "Here, we define a class that interpolates the data for us. The class is derived from BaseEstimator() which is part of the sklearn.base module. This is a base class that performs no functions, but has the correct parameters to initialize a SciKit Learn class. We simply add the transform() function which is needed for a transformer in a pipeline. This function takes the data provided, randomly distributes it along an array of NaN's and then uses the scipy.interpolate.interp1d() function to interpolate the missing values using splin interpolation of the first order."
   ]
  },
  {
   "cell_type": "code",
   "execution_count": null,
   "metadata": {
    "collapsed": true
   },
   "outputs": [],
   "source": [
    "class InterpolateData(BaseEstimator):\n",
    "\n",
    "    def transform(self, X, **transform_params):\n",
    "        from scipy.interpolate import interp1d\n",
    "        x_interp = []\n",
    "\n",
    "        for row in range(X.shape[0]):\n",
    "            holder = []\n",
    "            dim = np.int(np.count_nonzero(~np.isnan(X[row]))/22)\n",
    "\n",
    "            for i in range(1,23):\n",
    "                scaffold = np.array([np.nan]*136)\n",
    "                old_x = X[row,i*dim-dim:i*dim]\n",
    "                old_y= [1]+np.sort(random.sample(range(2,136),dim-2)).tolist()+[136]\n",
    "                new_y = [x for x in range(2,136) if np.in1d(range(2,136),old_y).tolist()[range(2,136).index(x)] == False]\n",
    "                f = interp1d(old_y,old_x,kind=1)\n",
    "                new_x = f(new_y)\n",
    "                scaffold[[x-1 for x in old_y]] = old_x[:]\n",
    "                scaffold[[x-1 for x in new_y]] = new_x[:]\n",
    "                holder.extend(scaffold)\n",
    "\n",
    "            x_interp.extend(holder)\n",
    "\n",
    "        return np.array(x_interp).reshape(X.shape)\n",
    "        \n",
    "    def fit(self, X, y=None, **fit_params):\n",
    "        return self"
   ]
  }
 ],
 "metadata": {
  "kernelspec": {
   "display_name": "Python 3",
   "language": "python",
   "name": "python3"
  },
  "language_info": {
   "codemirror_mode": {
    "name": "ipython",
    "version": 3
   },
   "file_extension": ".py",
   "mimetype": "text/x-python",
   "name": "python",
   "nbconvert_exporter": "python",
   "pygments_lexer": "ipython3",
   "version": "3.5.2"
  }
 },
 "nbformat": 4,
 "nbformat_minor": 0
}
