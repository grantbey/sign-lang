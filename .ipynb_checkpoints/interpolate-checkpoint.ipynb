{
 "cells": [
  {
   "cell_type": "markdown",
   "metadata": {},
   "source": [
    "# Interpolator script\n",
    "\n",
    "This serves to fill missing values into the sign lang data since each example is not the same size"
   ]
  },
  {
   "cell_type": "code",
   "execution_count": 1,
   "metadata": {
    "collapsed": false
   },
   "outputs": [],
   "source": [
    "import numpy as np\n",
    "import random\n",
    "from scipy.interpolate import interp1d"
   ]
  },
  {
   "cell_type": "code",
   "execution_count": 2,
   "metadata": {
    "collapsed": false
   },
   "outputs": [],
   "source": [
    "x = np.load('x.npy')\n",
    "y = np.load('y.npy')"
   ]
  },
  {
   "cell_type": "code",
   "execution_count": 3,
   "metadata": {
    "collapsed": false
   },
   "outputs": [],
   "source": [
    "# This is the version of the interpolator that uses the numpy.interp linear interpolator\n",
    "\n",
    "def npinterpolate(data):\n",
    "    \n",
    "    def nanfinder(x):\n",
    "        return np.isnan(x), lambda z: z.nonzero()[0]\n",
    "    \n",
    "    #np.random.seed(26)\n",
    "    x_interp = []\n",
    "    \n",
    "    \n",
    "    for row in range(data.shape[0]): # For each of 2565 rows\n",
    "        holder = []\n",
    "        dim = np.int(np.count_nonzero(~np.isnan(data[row]))/22) # return the number of observations in this example\n",
    "        for i in range(1,23): # For each of 22 variables\n",
    "            scaffold = np.array([np.nan]*136) # (136,) array of nans\n",
    "            current_var = data[row,i*dim-dim:i*dim] # return array with current var of size (dim,)\n",
    "            randpts = np.sort(random.sample(range(136),dim)) # return array of random points of size (dim,)\n",
    "            scaffold[randpts] = current_var[:]\n",
    "            nans,x = nanfinder(scaffold)\n",
    "            scaffold[nans] = np.interp(x(nans),x(~nans),scaffold[~nans])\n",
    "            holder.extend(scaffold.tolist()) # long list of values, 1D\n",
    "        x_interp.extend(holder) # even longer list of values, 1D\n",
    "    return np.array(x_interp).reshape(data.shape)"
   ]
  },
  {
   "cell_type": "code",
   "execution_count": 10,
   "metadata": {
    "collapsed": true
   },
   "outputs": [],
   "source": [
    "# This is the version of the interpolator script that uses the scipy interpolator with kind = slinear\n",
    "\n",
    "def scipyinterpolate(data):\n",
    "    x_interp = []\n",
    "    for row in range(data.shape[0]): # For each of 2565 rows\n",
    "        holder = []\n",
    "        dim = np.int(np.count_nonzero(~np.isnan(data[row]))/22)\n",
    "        for i in range(1,23): # For each of 22 variables\n",
    "            scaffold = np.full(2992,np.nan)\n",
    "            old_x = data[row,i*dim-dim:i*dim]\n",
    "            old_y= [1]+np.sort(random.sample(range(2,136),dim-2)).tolist()+[136]\n",
    "            new_y = [x for x in range(2,136) if np.in1d(range(2,136),old_y).tolist()[range(2,136).index(x)] == False]\n",
    "            f = interp1d(old_y,old_x,kind=1)\n",
    "            new_x = f(new_y)\n",
    "            scaffold[[x-1 for x in old_y]] = old_x[:]\n",
    "            scaffold[[x-1 for x in new_y]] = new_x[:]\n",
    "            holder.extend(scaffold) # even longer list of values, 1D\n",
    "        x_interp.extend(holder)\n",
    "    return np.array(x_interp).reshape(data.shape)"
   ]
  },
  {
   "cell_type": "code",
   "execution_count": 4,
   "metadata": {
    "collapsed": false
   },
   "outputs": [],
   "source": [
    "x_npinterp = npinterpolate(x)\n",
    "#x_scipyinterp = scipyinterpolate(x)"
   ]
  },
  {
   "cell_type": "code",
   "execution_count": 5,
   "metadata": {
    "collapsed": false
   },
   "outputs": [],
   "source": [
    "np.save('data/x_npinterp.npy',x_npinterp)\n",
    "#np.save('x_scipyinterp.npy',x_scipyinterp)"
   ]
  },
  {
   "cell_type": "code",
   "execution_count": 8,
   "metadata": {
    "collapsed": false
   },
   "outputs": [
    {
     "data": {
      "text/plain": [
       "136.0"
      ]
     },
     "execution_count": 8,
     "metadata": {},
     "output_type": "execute_result"
    }
   ],
   "source": [
    "# Find min / max / mean sizes of data\n",
    "\n",
    "size = []\n",
    "for i in range(x.shape[0]):\n",
    "    size.append(np.count_nonzero(~np.isnan(x[i]))/22)\n",
    "np.max(size)"
   ]
  },
  {
   "cell_type": "code",
   "execution_count": null,
   "metadata": {
    "collapsed": true
   },
   "outputs": [],
   "source": []
  }
 ],
 "metadata": {
  "kernelspec": {
   "display_name": "Python 3",
   "language": "python",
   "name": "python3"
  },
  "language_info": {
   "codemirror_mode": {
    "name": "ipython",
    "version": 3
   },
   "file_extension": ".py",
   "mimetype": "text/x-python",
   "name": "python",
   "nbconvert_exporter": "python",
   "pygments_lexer": "ipython3",
   "version": "3.5.2"
  }
 },
 "nbformat": 4,
 "nbformat_minor": 0
}
