{
 "cells": [
  {
   "cell_type": "code",
   "execution_count": 8,
   "metadata": {
    "collapsed": false
   },
   "outputs": [],
   "source": [
    "import numpy as np\n",
    "import os\n",
    "import re\n",
    "import pickle"
   ]
  },
  {
   "cell_type": "code",
   "execution_count": 2,
   "metadata": {
    "collapsed": false
   },
   "outputs": [
    {
     "name": "stderr",
     "output_type": "stream",
     "text": [
      "/home/nobody/anaconda3/lib/python3.5/site-packages/ipykernel/__main__.py:15: VisibleDeprecationWarning: using a non-integer number instead of an integer will result in an error in the future\n"
     ]
    }
   ],
   "source": [
    "# Initialize empty numpy arrays\n",
    "x = np.empty(0)\n",
    "y = np.empty(0)\n",
    "data = np.empty(0)\n",
    "\n",
    "for root, dirs, files in os.walk('data/tctodd'):\n",
    "    for i,fn in enumerate(files):\n",
    "        if fn.endswith(\"tsd\"):\n",
    "            current_file = np.full(2992,np.nan) # (2992,)\n",
    "            vals = np.loadtxt(os.path.join(root,fn),delimiter='\\t').ravel(order='F') #(<=2970,)\n",
    "            np.put(current_file,range(0,len(vals)),vals)\n",
    "            data = np.append(data,current_file)\n",
    "            y = np.append(y,re.search('(.+?)-[0-9]',fn).group(1))\n",
    "\n",
    "x = data.reshape((len(data)/2992,2992))"
   ]
  },
  {
   "cell_type": "code",
   "execution_count": 3,
   "metadata": {
    "collapsed": false
   },
   "outputs": [
    {
     "data": {
      "text/plain": [
       "(2565, 2992)"
      ]
     },
     "execution_count": 3,
     "metadata": {},
     "output_type": "execute_result"
    }
   ],
   "source": [
    "x.shape # 2565 examples, 2992 features each"
   ]
  },
  {
   "cell_type": "code",
   "execution_count": 4,
   "metadata": {
    "collapsed": false
   },
   "outputs": [
    {
     "data": {
      "text/plain": [
       "(2565,)"
      ]
     },
     "execution_count": 4,
     "metadata": {},
     "output_type": "execute_result"
    }
   ],
   "source": [
    "y.shape # 2565 y values"
   ]
  },
  {
   "cell_type": "code",
   "execution_count": 9,
   "metadata": {
    "collapsed": false
   },
   "outputs": [],
   "source": [
    "with open('data/pickled/x.pickle', 'wb') as f:\n",
    "    pickle.dump(x, f, pickle.HIGHEST_PROTOCOL)\n",
    "    \n",
    "with open('data/pickled/y.pickle', 'wb') as f:\n",
    "    pickle.dump(y, f, pickle.HIGHEST_PROTOCOL)"
   ]
  },
  {
   "cell_type": "code",
   "execution_count": 5,
   "metadata": {
    "collapsed": false
   },
   "outputs": [],
   "source": [
    "np.save('x',x)\n",
    "np.save('y',y)"
   ]
  }
 ],
 "metadata": {
  "kernelspec": {
   "display_name": "Python 3",
   "language": "python",
   "name": "python3"
  },
  "language_info": {
   "codemirror_mode": {
    "name": "ipython",
    "version": 3
   },
   "file_extension": ".py",
   "mimetype": "text/x-python",
   "name": "python",
   "nbconvert_exporter": "python",
   "pygments_lexer": "ipython3",
   "version": "3.5.2"
  }
 },
 "nbformat": 4,
 "nbformat_minor": 0
}
