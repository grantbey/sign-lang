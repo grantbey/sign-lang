{
 "cells": [
  {
   "cell_type": "markdown",
   "metadata": {},
   "source": [
    "# Using a nn to interpret sign language"
   ]
  },
  {
   "cell_type": "markdown",
   "metadata": {},
   "source": [
    "To start, various libraries are imported."
   ]
  },
  {
   "cell_type": "code",
   "execution_count": 47,
   "metadata": {
    "collapsed": false
   },
   "outputs": [],
   "source": [
    "# Import libraries\n",
    "import numpy as np\n",
    "import matplotlib.pyplot as plt\n",
    "import math\n",
    "from sklearn.metrics import accuracy_score\n",
    "import pickle\n",
    "import sys\n",
    "from sklearn.cross_validation import train_test_split\n",
    "from sklearn.preprocessing import OneHotEncoder"
   ]
  },
  {
   "cell_type": "markdown",
   "metadata": {},
   "source": [
    "First, we load the data."
   ]
  },
  {
   "cell_type": "code",
   "execution_count": 49,
   "metadata": {
    "collapsed": false
   },
   "outputs": [],
   "source": [
    "# Load data\n",
    "with open('../data/pickled/x_interp.pickle', 'rb') as f:\n",
    "    x = pickle.load(f)\n",
    "\n",
    "with open('../data/pickled/y.pickle', 'rb') as f:\n",
    "    y_words = pickle.load(f)"
   ]
  },
  {
   "cell_type": "code",
   "execution_count": 68,
   "metadata": {
    "collapsed": false
   },
   "outputs": [],
   "source": [
    "# Convert words into integers using a dictionary\n",
    "# If opening newer pickled files from nn-importer-interpolator.ipynb then this isn't necessary\n",
    "y_dict = {word:i for i,word in zip(range(len(np.unique(y_words))),np.unique(y_words))}\n",
    "y = np.array([y_dict[key] for key in y_words]).reshape(-1,1)"
   ]
  },
  {
   "cell_type": "code",
   "execution_count": 69,
   "metadata": {
    "collapsed": false
   },
   "outputs": [],
   "source": [
    "y = OneHotEncoder(sparse=False).fit_transform(y)"
   ]
  },
  {
   "cell_type": "code",
   "execution_count": 71,
   "metadata": {
    "collapsed": true
   },
   "outputs": [],
   "source": [
    "# Train/test split\n",
    "\n",
    "xtrain, xtest, ytrain, ytest = train_test_split(x, y, test_size=0.25, random_state=0)"
   ]
  },
  {
   "cell_type": "markdown",
   "metadata": {},
   "source": [
    "Now let's define some useful functions for the neural network to use. First is the sigmoid activation function:"
   ]
  },
  {
   "cell_type": "code",
   "execution_count": 72,
   "metadata": {
    "collapsed": true
   },
   "outputs": [],
   "source": [
    "# Sigmoid function\n",
    "def sigmoid(z):\n",
    "    return 1.0 / (1.0 + np.exp(-z))"
   ]
  },
  {
   "cell_type": "code",
   "execution_count": 73,
   "metadata": {
    "collapsed": false
   },
   "outputs": [],
   "source": [
    "def nn(weights,x,y):\n",
    "    \n",
    "    ### Initialization\n",
    "    n = len(x)\n",
    "    activations = [np.array(0) for i in range(n_layers)]\n",
    "    activations[0] = x\n",
    "    deltas = [np.array(0) for i in range(n_layers-1)]\n",
    "    bias = np.ones((n,1))\n",
    "    \n",
    "    ### Forward propagation\n",
    "    for w,l in zip(weights,range(1,n_layers)):\n",
    "        inputs = np.concatenate((bias,activations[l-1]),axis=1)\n",
    "        activations[l] = sigmoid(np.dot(inputs,w.T))\n",
    "    \n",
    "    ### Output error\n",
    "    deltas[-1] = activations[-1] - y\n",
    "    \n",
    "    ### Back propagation\n",
    "    for l in range(2,n_layers):\n",
    "        deltas[-l] = np.dot(deltas[-(l-1)],weights[-(l-1)][:,1:]) * activations[-l]*(1-activations[-l])\n",
    "        \n",
    "    # Update the weights / biases\n",
    "    for w,l in zip(weights,range(len(layers)-1,0,-1)):\n",
    "        w[:,1:] = w[:,1:] * (1-rate*Lambda/n) - np.dot(deltas[-l].T,activations[-(l+1)])*rate/n\n",
    "        w[:,:1] -= np.sum(deltas[-l])*rate/n\n",
    "        \n",
    "    return weights"
   ]
  },
  {
   "cell_type": "markdown",
   "metadata": {},
   "source": [
    "Next is the predict function. This function takes the learned weights and performs forward propagation through the netwwork using the x values supplied in the arguments. The effect of this is essentially to predict the output class of the given data using the weights that have been learned. We also calculate the cost here, because the actual cost value (and it's calculation) is only necessary if monitoring is set to True. Note: this function is only called by the accuracy tools at the end, and thus doesn't need to perform backpropagation or do any learning."
   ]
  },
  {
   "cell_type": "code",
   "execution_count": 74,
   "metadata": {
    "collapsed": true
   },
   "outputs": [],
   "source": [
    "def predict(weights,x,y):\n",
    "    \n",
    "    ### Initialization\n",
    "    n = len(x)\n",
    "    activations = [np.array(0) for i in range(n_layers)]\n",
    "    activations[0] = x\n",
    "    bias = np.ones((n,1))\n",
    "    \n",
    "    ### Forward propagation\n",
    "    for w,l in zip(weights,range(1,n_layers)):\n",
    "        inputs = np.concatenate((bias,activations[l-1]),axis=1)\n",
    "        activations[l] = sigmoid(np.dot(inputs,w.T))\n",
    "    \n",
    "    # Cost function: regularized cross entropy\n",
    "    C = np.sum(np.nan_to_num(-y*np.log(activations[-1]) - (1-y)*(np.log(1-activations[-1]))))/n\n",
    "    \n",
    "    ws_sum_squares = 0\n",
    "    for l in range(n_layers-1):\n",
    "        ws_sum_squares += np.sum(weights[l][:,1:]**2)\n",
    "        \n",
    "    C += ((Lambda/(2*n))) * ws_sum_squares # Add regularization to the cost function\n",
    "    \n",
    "    return np.argmax(activations[-1],axis=1),C"
   ]
  },
  {
   "cell_type": "markdown",
   "metadata": {},
   "source": [
    "We initialize theta with a set of random weights with a standard deviation of $ 1/\\sqrt{n} $"
   ]
  },
  {
   "cell_type": "code",
   "execution_count": 75,
   "metadata": {
    "collapsed": true
   },
   "outputs": [],
   "source": [
    "def weight_init(L_in,L_out):\n",
    "    np.random.seed(13) # This makes testing consistent.\n",
    "    return np.random.normal(scale=1/np.sqrt(L_in), size=(L_out,L_in+1))"
   ]
  },
  {
   "cell_type": "markdown",
   "metadata": {},
   "source": [
    "## Stochastic gradient descent\n",
    "\n",
    "This function handles the SGD part of the learning, and will be called later on in the script when we're ready to learn the model.\n",
    "\n",
    "First, the function calls *weight_init()* to initialize the starting weights. Empty lists are created for storing the costs and accuracies over the course of learning. Next, the function loops over the number of epochs. In each loop, the *x* and *y* matrices are shuffled and divided into mini-batches. Looping through all of the mini-batches, the *nn()* function is called to perform forward and backpropagation and update the weights accordingly. If the monitor flags are set when calling *SDG()* the predict function will produce the cost and accuracies and store them in the empty lists we created earlier."
   ]
  },
  {
   "cell_type": "code",
   "execution_count": 76,
   "metadata": {
    "collapsed": false
   },
   "outputs": [],
   "source": [
    "def SGD(x,y,monitor_cost,monitor_train_acc,monitor_test_acc):\n",
    "    \n",
    "    # Make list of weights arrays\n",
    "    weights = [np.array(0) for i in range(len(layers)-1)]\n",
    "    for l in range(len(layers)-1):\n",
    "        weights[l] = weight_init(layers[l],layers[l+1]) #[layers-1,[L_in+1,Lout]]\n",
    "        \n",
    "    def shuffle(x,y):\n",
    "        state = np.random.get_state()\n",
    "        np.random.shuffle(x)\n",
    "        np.random.set_state(state)\n",
    "        np.random.shuffle(y)\n",
    "        return x,y        \n",
    "        \n",
    "    costs, test_acc, train_acc = [],[],[]\n",
    "    for j in range(epochs):\n",
    "        \n",
    "        # Shuffle the data\n",
    "        x,y = shuffle(x,y)\n",
    "\n",
    "        # Seperate x,y mini-batches\n",
    "        mini_x = [x[k:k+minibatchsize] for k in range(0,len(x),minibatchsize)]\n",
    "        mini_y = [y[k:k+minibatchsize] for k in range(0,len(y),minibatchsize)]\n",
    "        \n",
    "        # Iterate through pairs of mini-batches, calling nn() on each pair\n",
    "        for x_mini,y_mini in zip(mini_x,mini_y):\n",
    "            weights = nn(weights,x_mini,y_mini)\n",
    "        \n",
    "        # If statements for monitoring. This ensures the predict() function isn't called unnecessarily\n",
    "        if monitor_cost | monitor_train_acc:\n",
    "            ypred, C = predict(weights,x,y)\n",
    "        if monitor_cost:\n",
    "            costs.append(C)\n",
    "        if monitor_train_acc:\n",
    "            train_acc.append(accuracy_score(np.argmax(y,axis=1),ypred))\n",
    "        if monitor_test_acc:\n",
    "            test_acc.append(accuracy_score(np.argmax(ytest,axis=1),predict(weights,xtest,ytest)[0]))\n",
    "        \n",
    "        # Write progress monitor\n",
    "        progress = (j+1)/(epochs)*100.0\n",
    "        bar = 20\n",
    "        hashes = '#'*(int(round(progress/100*bar)))\n",
    "        spaces = ' '*(bar-len(hashes))\n",
    "        sys.stdout.write('\\r[{0}] {1}%'.format(hashes + spaces, round(progress,2)))\n",
    "                    \n",
    "    return weights,costs,train_acc,test_acc"
   ]
  },
  {
   "cell_type": "markdown",
   "metadata": {},
   "source": [
    "## Finally, we train the model\n",
    "\n",
    "First, we specify the model parameters. Lambda is the regularization parameter, which protects against overfitting. The variable *classes* specifies the number of nodes in the output layer, *m* is the number of features in the data set (this also doubles as the number of input layers, see below), and *epochs*, *minibatchsize* and *rate* parameters are fairly self explanatory.\n",
    "\n",
    "The *layers* variable is a list, wherin each element of the list corresponds to a layer in the network (including the input and output layers). For example, the three layer network we've been working with until now is defined by [784, 100, 10], i.e. 784 features in the input layer, 100 neurons in the single hidden layer, and 10 output neurons.\n",
    "\n",
    "Now that all of the various elements have been coded, and the parameters have been set, we're ready to train the model using the training set, and plot the cost/accuracies."
   ]
  },
  {
   "cell_type": "code",
   "execution_count": 111,
   "metadata": {
    "collapsed": false,
    "scrolled": true
   },
   "outputs": [
    {
     "name": "stdout",
     "output_type": "stream",
     "text": [
      "[####################] 100.0%"
     ]
    },
    {
     "name": "stderr",
     "output_type": "stream",
     "text": [
      "/home/nobody/anaconda3/lib/python3.5/site-packages/ipykernel/__main__.py:3: RuntimeWarning: overflow encountered in exp\n",
      "  app.launch_new_instance()\n"
     ]
    }
   ],
   "source": [
    "# Model parameters\n",
    "m = np.int(xtrain.shape[1]) # Number of features in each example\n",
    "layers = [m, 1000, 500, 250, 96]\n",
    "n_layers = len(layers)\n",
    "\n",
    "# Learning parameters\n",
    "Lambda = 0\n",
    "epochs = 10\n",
    "minibatchsize = 1000\n",
    "rate = 10\n",
    "\n",
    "# Train the model\n",
    "weights, costs, train_acc, test_acc = SGD(xtrain,ytrain,True,True,True)"
   ]
  },
  {
   "cell_type": "code",
   "execution_count": 112,
   "metadata": {
    "collapsed": false
   },
   "outputs": [
    {
     "data": {
      "image/png": "[encoded data removed]",
      "text/plain": [
       "<matplotlib.figure.Figure at 0x2acfaa998f98>"
      ]
     },
     "metadata": {},
     "output_type": "display_data"
    }
   ],
   "source": [
    "# Plot the results\n",
    "# Note: don't bother calling unless the monitor parameters are set...\n",
    "plot()"
   ]
  },
  {
   "cell_type": "markdown",
   "metadata": {},
   "source": [
    "## Visualizing cost and accuracy as a function of epochs\n",
    "\n",
    "This quick code simply plots the cost versus number of epochs and training and testing set accuracies versus number of epochs"
   ]
  },
  {
   "cell_type": "code",
   "execution_count": 97,
   "metadata": {
    "collapsed": false
   },
   "outputs": [],
   "source": [
    "def plot():# Visualize the cost and accuracy\n",
    "    fig = plt.figure(figsize=(12, 12))\n",
    "\n",
    "    ax = fig.add_subplot(221)\n",
    "    ax.plot(np.arange(epochs), costs, \"-\")\n",
    "    ax.set_xlim([0, epochs])\n",
    "    ax.set_xlabel('Epoch')\n",
    "    ax.set_ylabel('Cost')\n",
    "    ax.set_title('Cost over epochs')\n",
    "\n",
    "    ax = fig.add_subplot(222)\n",
    "    ax.plot(np.arange(epochs), train_acc, \"-\",color='blue',label=\"Training data, final acc: \"+str(round(train_acc[-1],4)))\n",
    "    ax.plot(np.arange(epochs), test_acc, \"-\",color='orange',label=\"Testing data, final acc: \"+str(round(test_acc[-1],4)))\n",
    "    ax.set_xlim([0, epochs])\n",
    "    ax.set_xlabel('Epoch')\n",
    "    ax.set_ylabel('Accuracy')\n",
    "    plt.legend(loc='lower right')\n",
    "    ax.set_title('Accuracy over epochs')\n",
    "\n",
    "    plt.show()"
   ]
  },
  {
   "cell_type": "code",
   "execution_count": null,
   "metadata": {
    "collapsed": true
   },
   "outputs": [],
   "source": []
  }
 ],
 "metadata": {
  "kernelspec": {
   "display_name": "Python 3",
   "language": "python",
   "name": "python3"
  },
  "language_info": {
   "codemirror_mode": {
    "name": "ipython",
    "version": 3
   },
   "file_extension": ".py",
   "mimetype": "text/x-python",
   "name": "python",
   "nbconvert_exporter": "python",
   "pygments_lexer": "ipython3",
   "version": "3.5.2"
  }
 },
 "nbformat": 4,
 "nbformat_minor": 0
}
