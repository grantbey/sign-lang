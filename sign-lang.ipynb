{
 "cells": [
  {
   "cell_type": "markdown",
   "metadata": {},
   "source": [
    "# Processing the sign language dataset"
   ]
  },
  {
   "cell_type": "markdown",
   "metadata": {},
   "source": [
    "Import the basics here. As it happens, we only need numpy."
   ]
  },
  {
   "cell_type": "code",
   "execution_count": 1,
   "metadata": {
    "collapsed": true
   },
   "outputs": [],
   "source": [
    "import numpy as np"
   ]
  },
  {
   "cell_type": "markdown",
   "metadata": {},
   "source": [
    "Here we import the packages required for the get_data() function."
   ]
  },
  {
   "cell_type": "code",
   "execution_count": null,
   "metadata": {
    "collapsed": true
   },
   "outputs": [],
   "source": [
    "import os\n",
    "import re"
   ]
  },
  {
   "cell_type": "markdown",
   "metadata": {},
   "source": [
    "The data in the sign language dataset comes in the form of a multivariate time series. There are 22 variables (pitch, yaw, roll, etc. for each of the two hands). The sampling rate is estimated to be in the region of 100Hz, and each sign varies in length and so number of recorded data points varies from sign to sign.\n",
    "\n",
    "The get_data() function below iterates over a list of directories\n",
    "\n",
    "Sklearn requires that all data is in form [n X m] where n is the number of observations and m is the number of features. Because of the varied length of each sign, the number of features is different\n",
    "\n"
   ]
  },
  {
   "cell_type": "code",
   "execution_count": null,
   "metadata": {
    "collapsed": true
   },
   "outputs": [],
   "source": [
    "def get_data():\n",
    "    x = np.empty(0)\n",
    "    y = np.empty(0)\n",
    "    \n",
    "    for i in os.listdir(os.getcwd() + '/tctodd'):\n",
    "        if not i.endswith('.DS_Store'):\n",
    "            for fn in os.listdir(os.getcwd() + '/tctodd/' + i):\n",
    "                if fn.endswith(\"tsd\"):\n",
    "                    action = re.search('(.+?)-[0-9]',fn).group(1)\n",
    "                    data_current = np.loadtxt(os.getcwd() + '/tctodd/' + i + '/' + fn,delimiter='\\t').ravel(order='F')\n",
    "                    interp_data = interpolate(data_current)\n",
    "                    data = np.append(data,interp_data)\n",
    "                    y = np.append(y,action)\n",
    "            # print 'Done with directory ' + i # Provide status updates\n",
    "    return data.reshape((len(data)/2970,2970)), y"
   ]
  },
  {
   "cell_type": "code",
   "execution_count": null,
   "metadata": {
    "collapsed": true
   },
   "outputs": [],
   "source": [
    "def interpolate(data):\n",
    "\n",
    "    def nanhelper(x):\n",
    "        return np.isnan(x), lambda z: z.nonzero()[0]\n",
    "    \n",
    "    holder = np.ndarray(0)\n",
    "    \n",
    "    for i in range(1,23):\n",
    "        scaffold = np.full(135,np.nan)\n",
    "        dim = data.shape[0]/22\n",
    "        current_var = data[i*dim-dim:i*dim]\n",
    "        randpts = np.sort(np.random.choice(np.linspace(0,134,135,dtype=np.intp),dim))\n",
    "        scaffold[randpts] = current_var[:]\n",
    "        nans,x = nanhelper(scaffold)\n",
    "        scaffold[nans] = np.interp(x(nans),x(~nans),scaffold[~nans])\n",
    "        holder = np.append(holder,scaffold)\n",
    "    \n",
    "    return holder"
   ]
  },
  {
   "cell_type": "code",
   "execution_count": null,
   "metadata": {
    "collapsed": true
   },
   "outputs": [],
   "source": []
  },
  {
   "cell_type": "code",
   "execution_count": null,
   "metadata": {
    "collapsed": true
   },
   "outputs": [],
   "source": []
  },
  {
   "cell_type": "code",
   "execution_count": null,
   "metadata": {
    "collapsed": true
   },
   "outputs": [],
   "source": [
    "from sklearn.cross_validation import train_test_split"
   ]
  },
  {
   "cell_type": "code",
   "execution_count": null,
   "metadata": {
    "collapsed": true
   },
   "outputs": [],
   "source": [
    "x,y = get_data()\n",
    "X_train, X_test, y_train, y_test = train_test_split(x, y)"
   ]
  },
  {
   "cell_type": "code",
   "execution_count": null,
   "metadata": {
    "collapsed": true
   },
   "outputs": [],
   "source": [
    "from sklearn.preprocessing import StandardScaler"
   ]
  },
  {
   "cell_type": "code",
   "execution_count": null,
   "metadata": {
    "collapsed": true
   },
   "outputs": [],
   "source": [
    "scaler = StandardScaler() # instantiate the scaler\n",
    "scaler.fit(X_train) # Fit the model to the training data\n",
    "X_train_scaled = scaler.transform(X_train) # transform the training data\n",
    "X_test_transformed = scaler.transform(X_test) # transform the testing data"
   ]
  },
  {
   "cell_type": "code",
   "execution_count": null,
   "metadata": {
    "collapsed": true
   },
   "outputs": [],
   "source": [
    "from sklearn.decomposition import PCA"
   ]
  },
  {
   "cell_type": "code",
   "execution_count": null,
   "metadata": {
    "collapsed": true
   },
   "outputs": [],
   "source": [
    "pca = PCA(100) # instantiate the model\n",
    "pca.fit(X_train_scaled) # Fit the model to training data\n",
    "X_train_PCA = pca.transform(X_train) # transform the training data\n",
    "X_test_PCA = pca.transform(X_test) # transform the testing data"
   ]
  },
  {
   "cell_type": "code",
   "execution_count": null,
   "metadata": {
    "collapsed": true
   },
   "outputs": [],
   "source": [
    "from sklearn.svm import LinearSVC"
   ]
  },
  {
   "cell_type": "code",
   "execution_count": null,
   "metadata": {
    "collapsed": true
   },
   "outputs": [],
   "source": [
    "svm = LinearSVC(C=0.1)\n",
    "svm.fit(X_train_PCA, y_train)\n",
    "svm.score(X_train_PCA, y_train)\n",
    "svm.score(X_test_PCA, y_test)"
   ]
  }
 ],
 "metadata": {
  "kernelspec": {
   "display_name": "Python 3",
   "language": "python",
   "name": "python3"
  },
  "language_info": {
   "codemirror_mode": {
    "name": "ipython",
    "version": 3
   },
   "file_extension": ".py",
   "mimetype": "text/x-python",
   "name": "python",
   "nbconvert_exporter": "python",
   "pygments_lexer": "ipython3",
   "version": "3.4.3"
  }
 },
 "nbformat": 4,
 "nbformat_minor": 0
}
